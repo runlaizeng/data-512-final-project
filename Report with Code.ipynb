{
 "cells": [
  {
   "cell_type": "markdown",
   "metadata": {},
   "source": [
    "# 1 Introduction\n",
    "### 1.1 Overview\n",
    "According to the definition of happiness, happiness could be living a good life, mental state of well-being which positive or pleasant emotions ranging from contentment to intense joy.  The happiness index can reflect the happiness of the country. The higher the happiness is , more happiness the country is and which means the citizen in this country are more happy. Why happiness index is so important to explore? The higher happiness index not only means benignant  emotion to human beings but also has essential benefits to  human beings. \n",
    "\n",
    "### 1.2 Motivation\n",
    "According to the article “Six Ways Happiness is Good for Your Health”, the author concluded that Happiness and good health go hand in hand. Indeed, scientific studies find that happiness can make our heart healthier, our immune systems stronger, and our live longer.  Meanwhile , The article “Happiness can deter crime, a new study finds” highlighted that adolescent who experienced a decrease in their level of happiness or an increase in the degree of their depression over a one year period had higher odds of being involved in crime and of using drug.  As a human-centered data scientist, I think it is important to explore the factors could affect happiness index because increasing the happiness score not only help us feel better but also help us have better health and in the same time could reduce the crime rate. "
   ]
  },
  {
   "cell_type": "markdown",
   "metadata": {},
   "source": [
    "# 2 Background\n",
    "\n",
    "### 2.1 abstract\n",
    "In this project, I will explore and analysis what make human being happy. I will explore this based on the world happiness report. The world Happiness us a worldwide survey about happiness. They have 5 reports in total, the first one published in 2012, the second published in 2013, the third published in 2015, and the fourth in the 2016 Update. The World Happiness 2017 was released at the United Nations at an event celebrating International Day of Happiness on March 20th, which ranks 155 countries by their happiness levels."
   ]
  },
  {
   "cell_type": "markdown",
   "metadata": {},
   "source": [
    "### 2.2 Data\n",
    "world-happiness the datasets come from Kaggele. The world happiness contains three datasets. They are 2015.csv, 2016.csv, and 2017.csv. There are 12 varaibles for each data set. The varaible names , description and data type is in the following table. I will use 2016.csv for my project.\n",
    "\n",
    "| Varaible name  | Description | Data Type |\n",
    "| --- | --- | --- |\n",
    "| `Country` | Name of the country | String |\n",
    "| `Region` | Region the country belongs to | String |\n",
    "| `Happiness.Rank` | Rank of the country based on the Happiness Score. | Numeric |\n",
    "| `Happiness.Score` | A metric measured in 2015 by asking the sampled people the question: \"How would you rate your happiness on a scale of 0 to 10 where 10 is the happiest\" | Numeric |\n",
    "| `Economy..GDP.per.Capita.` | The extent to which GDP contributes to the calculation of the Happiness Score. | Numeric |\n",
    "| `Family` | The extent to which Family contributes to the calculation of the Happiness Score | Numeric |\n",
    "| `Health..Life.Expectancy.` | The extent to which Life expectancy contributed to the calculation of the Happiness Score | Numeric |\n",
    "| `Freedom` | The extent to which Freedom contributed to the calculation of the Happiness Score | Numeric |\n",
    "| `Generosity` |The extent to which Generosity contributed to the calculation of the Happiness Score | Numeric |\n",
    "| `Trust..Government.Corruption.` | Show file differences that **haven't been** staged | Numeric |\n",
    "| `Dystopia.Residual` | The extent to which Dystopia Residual contributed to the calculation of the Happiness Score. | Numeric|\n",
    "| `Standard Error` | No desciption provide | Numeric|"
   ]
  },
  {
   "cell_type": "markdown",
   "metadata": {},
   "source": [
    "### 2.3 Reaserch Question\n",
    "\n",
    "1. How does the Happiness Rank and Score distribute by countries, Regions ?\n",
    "2. Does super country like United States has high rank? If not, why not?\n",
    "3. Which factors most and least correlated with the happniess score? \n",
    "4. Which factors most and least influence the happniess score? "
   ]
  },
  {
   "cell_type": "markdown",
   "metadata": {},
   "source": [
    "# 3 Method"
   ]
  },
  {
   "cell_type": "markdown",
   "metadata": {},
   "source": [
    "Basically, my methods has 3 part. \n",
    "1. Visualizations & Statistically summary for Happiness score\n",
    "2. Coefficient correlation Calculation\n",
    "3. Multiple linear regression model prediction"
   ]
  },
  {
   "cell_type": "code",
   "execution_count": 275,
   "metadata": {
    "collapsed": true
   },
   "outputs": [],
   "source": [
    "#import pakcage needed\n",
    "import pandas as pd\n",
    "import matplotlib.pyplot as plt\n",
    "import matplotlib.mlab as mlab\n",
    "from scipy import stats\n",
    "import numpy as np\n",
    "from sklearn import datasets, linear_model\n",
    "from sklearn.linear_model import LinearRegression\n",
    "import statsmodels.api as sm\n",
    "from scipy import stats\n",
    "from IPython.display import  Image"
   ]
  },
  {
   "cell_type": "code",
   "execution_count": 324,
   "metadata": {
    "collapsed": false
   },
   "outputs": [],
   "source": [
    "#read the data\n",
    "df = pd.read_csv('2016.csv', index_col= False)"
   ]
  },
  {
   "cell_type": "markdown",
   "metadata": {},
   "source": [
    "### 3.1 Visualizations & Statistically summary for Happiness score\n",
    "In this part, I will have some visualizations for Happiness score, such as visualize the happiness by region and country, and I will give statistically summary and box plot of happiness score. The reason why this step needed because it has several reasons. First, it can give an overall information about happiness to the reader. Second, for other who want to use my project to start on their on project, these information will give them a clear evidence. Third, it better help us understand  how specific countries’ ranking an score performance in the whole world.\n",
    "\n"
   ]
  },
  {
   "cell_type": "markdown",
   "metadata": {},
   "source": [
    "#### 3.1.1 Happiness Distributed by Region"
   ]
  },
  {
   "cell_type": "code",
   "execution_count": 333,
   "metadata": {
    "collapsed": false
   },
   "outputs": [
    {
     "data": {
      "text/html": [
       "<div>\n",
       "<table border=\"1\" class=\"dataframe\">\n",
       "  <thead>\n",
       "    <tr style=\"text-align: right;\">\n",
       "      <th></th>\n",
       "      <th>Region</th>\n",
       "      <th>Happiness Score</th>\n",
       "    </tr>\n",
       "  </thead>\n",
       "  <tbody>\n",
       "    <tr>\n",
       "      <th>8</th>\n",
       "      <td>Sub-Saharan Africa</td>\n",
       "      <td>4.136421</td>\n",
       "    </tr>\n",
       "    <tr>\n",
       "      <th>7</th>\n",
       "      <td>Southern Asia</td>\n",
       "      <td>4.563286</td>\n",
       "    </tr>\n",
       "    <tr>\n",
       "      <th>6</th>\n",
       "      <td>Southeastern Asia</td>\n",
       "      <td>5.338889</td>\n",
       "    </tr>\n",
       "    <tr>\n",
       "      <th>1</th>\n",
       "      <td>Central and Eastern Europe</td>\n",
       "      <td>5.370690</td>\n",
       "    </tr>\n",
       "    <tr>\n",
       "      <th>4</th>\n",
       "      <td>Middle East and Northern Africa</td>\n",
       "      <td>5.386053</td>\n",
       "    </tr>\n",
       "    <tr>\n",
       "      <th>2</th>\n",
       "      <td>Eastern Asia</td>\n",
       "      <td>5.624167</td>\n",
       "    </tr>\n",
       "    <tr>\n",
       "      <th>3</th>\n",
       "      <td>Latin America and Caribbean</td>\n",
       "      <td>6.101750</td>\n",
       "    </tr>\n",
       "    <tr>\n",
       "      <th>9</th>\n",
       "      <td>Western Europe</td>\n",
       "      <td>6.685667</td>\n",
       "    </tr>\n",
       "    <tr>\n",
       "      <th>5</th>\n",
       "      <td>North America</td>\n",
       "      <td>7.254000</td>\n",
       "    </tr>\n",
       "    <tr>\n",
       "      <th>0</th>\n",
       "      <td>Australia and New Zealand</td>\n",
       "      <td>7.323500</td>\n",
       "    </tr>\n",
       "  </tbody>\n",
       "</table>\n",
       "</div>"
      ],
      "text/plain": [
       "                            Region  Happiness Score\n",
       "8               Sub-Saharan Africa         4.136421\n",
       "7                    Southern Asia         4.563286\n",
       "6                Southeastern Asia         5.338889\n",
       "1       Central and Eastern Europe         5.370690\n",
       "4  Middle East and Northern Africa         5.386053\n",
       "2                     Eastern Asia         5.624167\n",
       "3      Latin America and Caribbean         6.101750\n",
       "9                   Western Europe         6.685667\n",
       "5                    North America         7.254000\n",
       "0        Australia and New Zealand         7.323500"
      ]
     },
     "execution_count": 333,
     "metadata": {},
     "output_type": "execute_result"
    }
   ],
   "source": [
    "# calculate the mean and groupby Regrion \n",
    "df_region = pd.DataFrame(df.groupby(['Region'])['Happiness Score'].mean())\n",
    "df_region.reset_index(level=0, inplace = True)\n",
    "#sort it by happiness score\n",
    "df_region = df_region.sort_values(by = ['Happiness Score'])\n",
    "df_region"
   ]
  },
  {
   "cell_type": "code",
   "execution_count": 334,
   "metadata": {
    "collapsed": false,
    "scrolled": false
   },
   "outputs": [
    {
     "data": {
      "image/png": "[encoded data removed]",
      "text/plain": [
       "<matplotlib.figure.Figure at 0x11a2132b0>"
      ]
     },
     "metadata": {},
     "output_type": "display_data"
    }
   ],
   "source": [
    "#make a bar graph for the table above\n",
    "y_pos = np.arange(len(df_region))\n",
    "plt.figure(figsize=(30,12))\n",
    "plt.bar(y_pos, df_region['Happiness Score'])\n",
    "plt.xticks(y_pos, df_region['Region']) \n",
    "plt.show()"
   ]
  },
  {
   "cell_type": "markdown",
   "metadata": {},
   "source": [
    "#### 3.1.2  Top 10 and Last 10 rank"
   ]
  },
  {
   "cell_type": "code",
   "execution_count": 336,
   "metadata": {
    "collapsed": false
   },
   "outputs": [
    {
     "data": {
      "text/html": [
       "<div>\n",
       "<table border=\"1\" class=\"dataframe\">\n",
       "  <thead>\n",
       "    <tr style=\"text-align: right;\">\n",
       "      <th></th>\n",
       "      <th>Country</th>\n",
       "      <th>Happiness Rank</th>\n",
       "      <th>Happiness Score</th>\n",
       "    </tr>\n",
       "  </thead>\n",
       "  <tbody>\n",
       "    <tr>\n",
       "      <th>0</th>\n",
       "      <td>Denmark</td>\n",
       "      <td>1</td>\n",
       "      <td>7.526</td>\n",
       "    </tr>\n",
       "    <tr>\n",
       "      <th>1</th>\n",
       "      <td>Switzerland</td>\n",
       "      <td>2</td>\n",
       "      <td>7.509</td>\n",
       "    </tr>\n",
       "    <tr>\n",
       "      <th>2</th>\n",
       "      <td>Iceland</td>\n",
       "      <td>3</td>\n",
       "      <td>7.501</td>\n",
       "    </tr>\n",
       "    <tr>\n",
       "      <th>3</th>\n",
       "      <td>Norway</td>\n",
       "      <td>4</td>\n",
       "      <td>7.498</td>\n",
       "    </tr>\n",
       "    <tr>\n",
       "      <th>4</th>\n",
       "      <td>Finland</td>\n",
       "      <td>5</td>\n",
       "      <td>7.413</td>\n",
       "    </tr>\n",
       "  </tbody>\n",
       "</table>\n",
       "</div>"
      ],
      "text/plain": [
       "       Country  Happiness Rank  Happiness Score\n",
       "0      Denmark               1            7.526\n",
       "1  Switzerland               2            7.509\n",
       "2      Iceland               3            7.501\n",
       "3       Norway               4            7.498\n",
       "4      Finland               5            7.413"
      ]
     },
     "execution_count": 336,
     "metadata": {},
     "output_type": "execute_result"
    }
   ],
   "source": [
    "#get the dataframe for  the top 10 country\n",
    "df_top = df[['Country','Happiness Rank','Happiness Score']][:10]\n",
    "df_top.head()"
   ]
  },
  {
   "cell_type": "code",
   "execution_count": 337,
   "metadata": {
    "collapsed": false,
    "scrolled": true
   },
   "outputs": [
    {
     "data": {
      "text/html": [
       "<div>\n",
       "<table border=\"1\" class=\"dataframe\">\n",
       "  <thead>\n",
       "    <tr style=\"text-align: right;\">\n",
       "      <th></th>\n",
       "      <th>Country</th>\n",
       "      <th>Happiness Rank</th>\n",
       "      <th>Happiness Score</th>\n",
       "    </tr>\n",
       "  </thead>\n",
       "  <tbody>\n",
       "    <tr>\n",
       "      <th>145</th>\n",
       "      <td>Uganda</td>\n",
       "      <td>145</td>\n",
       "      <td>3.739</td>\n",
       "    </tr>\n",
       "    <tr>\n",
       "      <th>146</th>\n",
       "      <td>Yemen</td>\n",
       "      <td>147</td>\n",
       "      <td>3.724</td>\n",
       "    </tr>\n",
       "    <tr>\n",
       "      <th>147</th>\n",
       "      <td>Madagascar</td>\n",
       "      <td>148</td>\n",
       "      <td>3.695</td>\n",
       "    </tr>\n",
       "    <tr>\n",
       "      <th>148</th>\n",
       "      <td>Tanzania</td>\n",
       "      <td>149</td>\n",
       "      <td>3.666</td>\n",
       "    </tr>\n",
       "    <tr>\n",
       "      <th>149</th>\n",
       "      <td>Liberia</td>\n",
       "      <td>150</td>\n",
       "      <td>3.622</td>\n",
       "    </tr>\n",
       "  </tbody>\n",
       "</table>\n",
       "</div>"
      ],
      "text/plain": [
       "        Country  Happiness Rank  Happiness Score\n",
       "145      Uganda             145            3.739\n",
       "146       Yemen             147            3.724\n",
       "147  Madagascar             148            3.695\n",
       "148    Tanzania             149            3.666\n",
       "149     Liberia             150            3.622"
      ]
     },
     "execution_count": 337,
     "metadata": {},
     "output_type": "execute_result"
    }
   ],
   "source": [
    "#get the dataframne for bottom 10 coutry\n",
    "df_bottom = df[['Country','Happiness Rank', 'Happiness Score']][145:]\n",
    "df_bottom.head()"
   ]
  },
  {
   "cell_type": "markdown",
   "metadata": {},
   "source": [
    "#### 3.1.3 Hapiness score distributed by Countries"
   ]
  },
  {
   "cell_type": "code",
   "execution_count": 338,
   "metadata": {
    "collapsed": false,
    "scrolled": false
   },
   "outputs": [
    {
     "data": {
      "image/png": "[encoded data removed]",
      "text/plain": [
       "<matplotlib.figure.Figure at 0x11a43d978>"
      ]
     },
     "metadata": {},
     "output_type": "display_data"
    }
   ],
   "source": [
    "#plot the distribution for happiness score by Countries and save the image\n",
    "plt.figure(figsize=(24,12))\n",
    "plt.hist(df['Happiness Score'],edgecolor='black')\n",
    "plt.xlabel('Happiness.Score')\n",
    "plt.ylabel('Counts')\n",
    "plt.title(\"Distrubition of Happniess Score\")\n",
    "plt.savefig(\"Distrubition_of_Happniess_Score.png\")\n",
    "plt.show()"
   ]
  },
  {
   "cell_type": "markdown",
   "metadata": {},
   "source": [
    "#### 3.1.3 Statiscally summary and boxplot"
   ]
  },
  {
   "cell_type": "code",
   "execution_count": 339,
   "metadata": {
    "collapsed": false
   },
   "outputs": [
    {
     "data": {
      "text/plain": [
       "count    157.000000\n",
       "mean       5.382185\n",
       "std        1.141674\n",
       "min        2.905000\n",
       "25%        4.404000\n",
       "50%        5.314000\n",
       "75%        6.269000\n",
       "max        7.526000\n",
       "Name: Happiness Score, dtype: float64"
      ]
     },
     "execution_count": 339,
     "metadata": {},
     "output_type": "execute_result"
    }
   ],
   "source": [
    "#get the statiscally summary\n",
    "df_summary = df['Happiness Score'].describe()\n",
    "df_summary"
   ]
  },
  {
   "cell_type": "code",
   "execution_count": 340,
   "metadata": {
    "collapsed": false,
    "scrolled": true
   },
   "outputs": [
    {
     "data": {
      "image/png": "[encoded data removed]",
      "text/plain": [
       "<matplotlib.figure.Figure at 0x11a4473c8>"
      ]
     },
     "metadata": {},
     "output_type": "display_data"
    }
   ],
   "source": [
    "#plot the boxlot and save the image\n",
    "plt.figure(figsize=(20,12))\n",
    "pd.DataFrame.boxplot(df['Happiness Score'])\n",
    "plt.ylabel('Happiness Score')\n",
    "plt.title('Box plot of Happiness Score')\n",
    "plt.savefig(\"Boxplot_of_Happniess_Score.png\")\n",
    "plt.show()"
   ]
  },
  {
   "cell_type": "markdown",
   "metadata": {},
   "source": [
    "#### 3.1.4 rank and score by specific country"
   ]
  },
  {
   "cell_type": "code",
   "execution_count": 332,
   "metadata": {
    "collapsed": true
   },
   "outputs": [],
   "source": [
    "#get the rank and score for Untied States and China\n",
    "df_usa = df.loc[df['Country'] == \"United States\",['Country', 'Region','Happiness Rank','Happiness Score']]\n",
    "df_China = df.loc[df['Country'] == \"China\",['Country', 'Region','Happiness Rank','Happiness Score']]"
   ]
  },
  {
   "cell_type": "code",
   "execution_count": 330,
   "metadata": {
    "collapsed": false
   },
   "outputs": [
    {
     "data": {
      "text/html": [
       "<div>\n",
       "<table border=\"1\" class=\"dataframe\">\n",
       "  <thead>\n",
       "    <tr style=\"text-align: right;\">\n",
       "      <th></th>\n",
       "      <th>Country</th>\n",
       "      <th>Region</th>\n",
       "      <th>Happiness Rank</th>\n",
       "      <th>Happiness Score</th>\n",
       "    </tr>\n",
       "  </thead>\n",
       "  <tbody>\n",
       "    <tr>\n",
       "      <th>12</th>\n",
       "      <td>United States</td>\n",
       "      <td>North America</td>\n",
       "      <td>13</td>\n",
       "      <td>7.104</td>\n",
       "    </tr>\n",
       "  </tbody>\n",
       "</table>\n",
       "</div>"
      ],
      "text/plain": [
       "          Country         Region  Happiness Rank  Happiness Score\n",
       "12  United States  North America              13            7.104"
      ]
     },
     "execution_count": 330,
     "metadata": {},
     "output_type": "execute_result"
    }
   ],
   "source": [
    "df_usa"
   ]
  },
  {
   "cell_type": "code",
   "execution_count": 331,
   "metadata": {
    "collapsed": false
   },
   "outputs": [
    {
     "data": {
      "text/html": [
       "<div>\n",
       "<table border=\"1\" class=\"dataframe\">\n",
       "  <thead>\n",
       "    <tr style=\"text-align: right;\">\n",
       "      <th></th>\n",
       "      <th>Country</th>\n",
       "      <th>Region</th>\n",
       "      <th>Happiness Rank</th>\n",
       "      <th>Happiness Score</th>\n",
       "    </tr>\n",
       "  </thead>\n",
       "  <tbody>\n",
       "    <tr>\n",
       "      <th>82</th>\n",
       "      <td>China</td>\n",
       "      <td>Eastern Asia</td>\n",
       "      <td>83</td>\n",
       "      <td>5.245</td>\n",
       "    </tr>\n",
       "  </tbody>\n",
       "</table>\n",
       "</div>"
      ],
      "text/plain": [
       "   Country        Region  Happiness Rank  Happiness Score\n",
       "82   China  Eastern Asia              83            5.245"
      ]
     },
     "execution_count": 331,
     "metadata": {},
     "output_type": "execute_result"
    }
   ],
   "source": [
    "df_China"
   ]
  },
  {
   "cell_type": "markdown",
   "metadata": {},
   "source": [
    "### 3.2 Coefficient correlation \n",
    "A correlation coefficient is a single number that describes the degrees of linear relationship between two set of variables. It tells how strong correlation these two variables are. This step is important because it could inform reader about how strong each variable correlated with Happiness score. "
   ]
  },
  {
   "cell_type": "code",
   "execution_count": 318,
   "metadata": {
    "collapsed": false
   },
   "outputs": [
    {
     "data": {
      "text/plain": [
       "Index(['Country', 'Region', 'Happiness Rank', 'Happiness Score',\n",
       "       'Lower Confidence Interval', 'Upper Confidence Interval',\n",
       "       'Economy (GDP per Capita)', 'Family', 'Health (Life Expectancy)',\n",
       "       'Freedom', 'Trust (Government Corruption)', 'Generosity',\n",
       "       'Dystopia Residual'],\n",
       "      dtype='object')"
      ]
     },
     "execution_count": 318,
     "metadata": {},
     "output_type": "execute_result"
    }
   ],
   "source": [
    "df.columns # get the columns' name"
   ]
  },
  {
   "cell_type": "code",
   "execution_count": 319,
   "metadata": {
    "collapsed": false
   },
   "outputs": [
    {
     "data": {
      "text/plain": [
       "Country                           object\n",
       "Region                            object\n",
       "Happiness Rank                     int64\n",
       "Happiness Score                  float64\n",
       "Lower Confidence Interval        float64\n",
       "Upper Confidence Interval        float64\n",
       "Economy (GDP per Capita)         float64\n",
       "Family                           float64\n",
       "Health (Life Expectancy)         float64\n",
       "Freedom                          float64\n",
       "Trust (Government Corruption)    float64\n",
       "Generosity                       float64\n",
       "Dystopia Residual                float64\n",
       "dtype: object"
      ]
     },
     "execution_count": 319,
     "metadata": {},
     "output_type": "execute_result"
    }
   ],
   "source": [
    "df.dtypes # check the type od data"
   ]
  },
  {
   "cell_type": "code",
   "execution_count": 320,
   "metadata": {
    "collapsed": false
   },
   "outputs": [
    {
     "name": "stdout",
     "output_type": "stream",
     "text": [
      "Economy (GDP per Capita)\n",
      "0.156847796404\n",
      "Family\n",
      "0.790322016726\n",
      "Health (Life Expectancy)\n",
      "0.739251577407\n",
      "Freedom\n",
      "0.765384334434\n",
      "Trust (Government Corruption)\n",
      "0.566826673097\n",
      "Generosity\n",
      "0.402032245147\n"
     ]
    }
   ],
   "source": [
    "# calculated coefficient correlation for each factor with Happiness score\n",
    "columns_names = (df.columns[6:-1]).tolist()\n",
    "coef = []\n",
    "for i in columns_names:\n",
    "    print(i)\n",
    "    print(tem_coeff)\n",
    "    tem_coeff = np.corrcoef(df['Happiness Score'],df[i])[0,1]\n",
    "    coef.append(tem_coeff)"
   ]
  },
  {
   "cell_type": "code",
   "execution_count": 321,
   "metadata": {
    "collapsed": false,
    "scrolled": true
   },
   "outputs": [
    {
     "data": {
      "text/html": [
       "<div>\n",
       "<table border=\"1\" class=\"dataframe\">\n",
       "  <thead>\n",
       "    <tr style=\"text-align: right;\">\n",
       "      <th></th>\n",
       "      <th>Factor</th>\n",
       "      <th>Correlation Coefficient with Happiness</th>\n",
       "    </tr>\n",
       "  </thead>\n",
       "  <tbody>\n",
       "    <tr>\n",
       "      <th>5</th>\n",
       "      <td>Generosity</td>\n",
       "      <td>0.156848</td>\n",
       "    </tr>\n",
       "    <tr>\n",
       "      <th>4</th>\n",
       "      <td>Trust (Government Corruption)</td>\n",
       "      <td>0.402032</td>\n",
       "    </tr>\n",
       "    <tr>\n",
       "      <th>3</th>\n",
       "      <td>Freedom</td>\n",
       "      <td>0.566827</td>\n",
       "    </tr>\n",
       "    <tr>\n",
       "      <th>1</th>\n",
       "      <td>Family</td>\n",
       "      <td>0.739252</td>\n",
       "    </tr>\n",
       "    <tr>\n",
       "      <th>2</th>\n",
       "      <td>Health (Life Expectancy)</td>\n",
       "      <td>0.765384</td>\n",
       "    </tr>\n",
       "    <tr>\n",
       "      <th>0</th>\n",
       "      <td>Economy (GDP per Capita)</td>\n",
       "      <td>0.790322</td>\n",
       "    </tr>\n",
       "  </tbody>\n",
       "</table>\n",
       "</div>"
      ],
      "text/plain": [
       "                          Factor  Correlation Coefficient with Happiness\n",
       "5                     Generosity                                0.156848\n",
       "4  Trust (Government Corruption)                                0.402032\n",
       "3                        Freedom                                0.566827\n",
       "1                         Family                                0.739252\n",
       "2       Health (Life Expectancy)                                0.765384\n",
       "0       Economy (GDP per Capita)                                0.790322"
      ]
     },
     "execution_count": 321,
     "metadata": {},
     "output_type": "execute_result"
    }
   ],
   "source": [
    "#make the datafrane to display\n",
    "df_coeff = pd.DataFrame({'Correlation Coefficient with Happiness' : coef, 'Factor': columns_names})\n",
    "df_coeff = df_coeff[['Factor','Correlation Coefficient with Happiness']]\n",
    "#sort the dataframe by coe correlation\n",
    "df_coeff = df_coeff.sort_values(by = ['Correlation Coefficient with Happiness'])\n",
    "df_coeff"
   ]
  },
  {
   "cell_type": "markdown",
   "metadata": {},
   "source": [
    "### 3.3 Mutlple Linear Model Prediction\n",
    "In this step, Multiple Linear Regression attempts to model the relationship between variables and happiness score by fitting a linear equation to obsersved data. This describe how mean of happiness score change with the variables.  This method is helpful because it can tell me which factors influence the happiness score most and least. It can reflect a way how each variable influence the happiness score and tell me how efficient improve the happiness score."
   ]
  },
  {
   "cell_type": "code",
   "execution_count": 214,
   "metadata": {
    "collapsed": false
   },
   "outputs": [],
   "source": [
    "#get the x and y for fitting the model\n",
    "x = df[df.columns[6:-1]]\n",
    "y = df['Happiness Score']"
   ]
  },
  {
   "cell_type": "code",
   "execution_count": 322,
   "metadata": {
    "collapsed": true
   },
   "outputs": [],
   "source": [
    "#import extra statistically package for predicting\n",
    "from statsmodels.regression import linear_model\n",
    "from statsmodels.api import add_constant"
   ]
  },
  {
   "cell_type": "code",
   "execution_count": 323,
   "metadata": {
    "collapsed": false
   },
   "outputs": [
    {
     "data": {
      "text/html": [
       "<table class=\"simpletable\">\n",
       "<caption>OLS Regression Results</caption>\n",
       "<tr>\n",
       "  <th>Dep. Variable:</th>     <td>Happiness Score</td> <th>  R-squared:         </th> <td>   0.979</td> \n",
       "</tr>\n",
       "<tr>\n",
       "  <th>Model:</th>                   <td>OLS</td>       <th>  Adj. R-squared:    </th> <td>   0.978</td> \n",
       "</tr>\n",
       "<tr>\n",
       "  <th>Method:</th>             <td>Least Squares</td>  <th>  F-statistic:       </th> <td>   1191.</td> \n",
       "</tr>\n",
       "<tr>\n",
       "  <th>Date:</th>             <td>Sun, 10 Dec 2017</td> <th>  Prob (F-statistic):</th> <td>2.01e-124</td>\n",
       "</tr>\n",
       "<tr>\n",
       "  <th>Time:</th>                 <td>16:00:23</td>     <th>  Log-Likelihood:    </th> <td> -186.04</td> \n",
       "</tr>\n",
       "<tr>\n",
       "  <th>No. Observations:</th>      <td>   157</td>      <th>  AIC:               </th> <td>   384.1</td> \n",
       "</tr>\n",
       "<tr>\n",
       "  <th>Df Residuals:</th>          <td>   151</td>      <th>  BIC:               </th> <td>   402.4</td> \n",
       "</tr>\n",
       "<tr>\n",
       "  <th>Df Model:</th>              <td>     6</td>      <th>                     </th>     <td> </td>    \n",
       "</tr>\n",
       "<tr>\n",
       "  <th>Covariance Type:</th>      <td>nonrobust</td>    <th>                     </th>     <td> </td>    \n",
       "</tr>\n",
       "</table>\n",
       "<table class=\"simpletable\">\n",
       "<tr>\n",
       "                <td></td>                   <th>coef</th>     <th>std err</th>      <th>t</th>      <th>P>|t|</th>  <th>[0.025</th>    <th>0.975]</th>  \n",
       "</tr>\n",
       "<tr>\n",
       "  <th>Economy (GDP per Capita)</th>      <td>    0.7232</td> <td>    0.326</td> <td>    2.215</td> <td> 0.028</td> <td>    0.078</td> <td>    1.368</td>\n",
       "</tr>\n",
       "<tr>\n",
       "  <th>Family</th>                        <td>    2.3765</td> <td>    0.322</td> <td>    7.376</td> <td> 0.000</td> <td>    1.740</td> <td>    3.013</td>\n",
       "</tr>\n",
       "<tr>\n",
       "  <th>Health (Life Expectancy)</th>      <td>    2.0901</td> <td>    0.520</td> <td>    4.021</td> <td> 0.000</td> <td>    1.063</td> <td>    3.117</td>\n",
       "</tr>\n",
       "<tr>\n",
       "  <th>Freedom</th>                       <td>    2.7120</td> <td>    0.569</td> <td>    4.769</td> <td> 0.000</td> <td>    1.588</td> <td>    3.835</td>\n",
       "</tr>\n",
       "<tr>\n",
       "  <th>Trust (Government Corruption)</th> <td>    0.4333</td> <td>    0.697</td> <td>    0.622</td> <td> 0.535</td> <td>   -0.944</td> <td>    1.810</td>\n",
       "</tr>\n",
       "<tr>\n",
       "  <th>Generosity</th>                    <td>    1.7095</td> <td>    0.518</td> <td>    3.302</td> <td> 0.001</td> <td>    0.687</td> <td>    2.732</td>\n",
       "</tr>\n",
       "</table>\n",
       "<table class=\"simpletable\">\n",
       "<tr>\n",
       "  <th>Omnibus:</th>       <td> 0.459</td> <th>  Durbin-Watson:     </th> <td>   1.912</td>\n",
       "</tr>\n",
       "<tr>\n",
       "  <th>Prob(Omnibus):</th> <td> 0.795</td> <th>  Jarque-Bera (JB):  </th> <td>   0.590</td>\n",
       "</tr>\n",
       "<tr>\n",
       "  <th>Skew:</th>          <td> 0.110</td> <th>  Prob(JB):          </th> <td>   0.744</td>\n",
       "</tr>\n",
       "<tr>\n",
       "  <th>Kurtosis:</th>      <td> 2.795</td> <th>  Cond. No.          </th> <td>    18.2</td>\n",
       "</tr>\n",
       "</table>"
      ],
      "text/plain": [
       "<class 'statsmodels.iolib.summary.Summary'>\n",
       "\"\"\"\n",
       "                            OLS Regression Results                            \n",
       "==============================================================================\n",
       "Dep. Variable:        Happiness Score   R-squared:                       0.979\n",
       "Model:                            OLS   Adj. R-squared:                  0.978\n",
       "Method:                 Least Squares   F-statistic:                     1191.\n",
       "Date:                Sun, 10 Dec 2017   Prob (F-statistic):          2.01e-124\n",
       "Time:                        16:00:23   Log-Likelihood:                -186.04\n",
       "No. Observations:                 157   AIC:                             384.1\n",
       "Df Residuals:                     151   BIC:                             402.4\n",
       "Df Model:                           6                                         \n",
       "Covariance Type:            nonrobust                                         \n",
       "=================================================================================================\n",
       "                                    coef    std err          t      P>|t|      [0.025      0.975]\n",
       "-------------------------------------------------------------------------------------------------\n",
       "Economy (GDP per Capita)          0.7232      0.326      2.215      0.028       0.078       1.368\n",
       "Family                            2.3765      0.322      7.376      0.000       1.740       3.013\n",
       "Health (Life Expectancy)          2.0901      0.520      4.021      0.000       1.063       3.117\n",
       "Freedom                           2.7120      0.569      4.769      0.000       1.588       3.835\n",
       "Trust (Government Corruption)     0.4333      0.697      0.622      0.535      -0.944       1.810\n",
       "Generosity                        1.7095      0.518      3.302      0.001       0.687       2.732\n",
       "==============================================================================\n",
       "Omnibus:                        0.459   Durbin-Watson:                   1.912\n",
       "Prob(Omnibus):                  0.795   Jarque-Bera (JB):                0.590\n",
       "Skew:                           0.110   Prob(JB):                        0.744\n",
       "Kurtosis:                       2.795   Cond. No.                         18.2\n",
       "==============================================================================\n",
       "\n",
       "Warnings:\n",
       "[1] Standard Errors assume that the covariance matrix of the errors is correctly specified.\n",
       "\"\"\""
      ]
     },
     "execution_count": 323,
     "metadata": {},
     "output_type": "execute_result"
    }
   ],
   "source": [
    "#display the statiscally summary \n",
    "result.summary()"
   ]
  },
  {
   "cell_type": "markdown",
   "metadata": {},
   "source": [
    "# 4 Finding"
   ]
  },
  {
   "cell_type": "markdown",
   "metadata": {},
   "source": [
    "### 4.1 Happniess Score by Region"
   ]
  },
  {
   "cell_type": "code",
   "execution_count": 223,
   "metadata": {
    "collapsed": false
   },
   "outputs": [
    {
     "data": {
      "text/html": [
       "<div>\n",
       "<table border=\"1\" class=\"dataframe\">\n",
       "  <thead>\n",
       "    <tr style=\"text-align: right;\">\n",
       "      <th></th>\n",
       "      <th>Region</th>\n",
       "      <th>Happiness Score</th>\n",
       "    </tr>\n",
       "  </thead>\n",
       "  <tbody>\n",
       "    <tr>\n",
       "      <th>8</th>\n",
       "      <td>Sub-Saharan Africa</td>\n",
       "      <td>4.136421</td>\n",
       "    </tr>\n",
       "    <tr>\n",
       "      <th>7</th>\n",
       "      <td>Southern Asia</td>\n",
       "      <td>4.563286</td>\n",
       "    </tr>\n",
       "    <tr>\n",
       "      <th>6</th>\n",
       "      <td>Southeastern Asia</td>\n",
       "      <td>5.338889</td>\n",
       "    </tr>\n",
       "    <tr>\n",
       "      <th>1</th>\n",
       "      <td>Central and Eastern Europe</td>\n",
       "      <td>5.370690</td>\n",
       "    </tr>\n",
       "    <tr>\n",
       "      <th>4</th>\n",
       "      <td>Middle East and Northern Africa</td>\n",
       "      <td>5.386053</td>\n",
       "    </tr>\n",
       "    <tr>\n",
       "      <th>2</th>\n",
       "      <td>Eastern Asia</td>\n",
       "      <td>5.624167</td>\n",
       "    </tr>\n",
       "    <tr>\n",
       "      <th>3</th>\n",
       "      <td>Latin America and Caribbean</td>\n",
       "      <td>6.101750</td>\n",
       "    </tr>\n",
       "    <tr>\n",
       "      <th>9</th>\n",
       "      <td>Western Europe</td>\n",
       "      <td>6.685667</td>\n",
       "    </tr>\n",
       "    <tr>\n",
       "      <th>5</th>\n",
       "      <td>North America</td>\n",
       "      <td>7.254000</td>\n",
       "    </tr>\n",
       "    <tr>\n",
       "      <th>0</th>\n",
       "      <td>Australia and New Zealand</td>\n",
       "      <td>7.323500</td>\n",
       "    </tr>\n",
       "  </tbody>\n",
       "</table>\n",
       "</div>"
      ],
      "text/plain": [
       "                            Region  Happiness Score\n",
       "8               Sub-Saharan Africa         4.136421\n",
       "7                    Southern Asia         4.563286\n",
       "6                Southeastern Asia         5.338889\n",
       "1       Central and Eastern Europe         5.370690\n",
       "4  Middle East and Northern Africa         5.386053\n",
       "2                     Eastern Asia         5.624167\n",
       "3      Latin America and Caribbean         6.101750\n",
       "9                   Western Europe         6.685667\n",
       "5                    North America         7.254000\n",
       "0        Australia and New Zealand         7.323500"
      ]
     },
     "execution_count": 223,
     "metadata": {},
     "output_type": "execute_result"
    }
   ],
   "source": [
    "df_region"
   ]
  },
  {
   "cell_type": "markdown",
   "metadata": {},
   "source": [
    "From the table above, I found that the Australia and new Zealand region have the highest happiness score and North America region has the second highest happiness score. The sub-Saharan Africa has the lowest happiness score. Thus from my intuition, I assume that the developed and rich regions may has higher happiness score than remote and un-developed region such as Sub-Saharan Africa. I need more evidence to verity this assumption.\n"
   ]
  },
  {
   "cell_type": "markdown",
   "metadata": {},
   "source": [
    "### 4.2 Top 10 and bottom 10 Countries"
   ]
  },
  {
   "cell_type": "code",
   "execution_count": 230,
   "metadata": {
    "collapsed": false
   },
   "outputs": [
    {
     "data": {
      "text/html": [
       "<div>\n",
       "<table border=\"1\" class=\"dataframe\">\n",
       "  <thead>\n",
       "    <tr style=\"text-align: right;\">\n",
       "      <th></th>\n",
       "      <th>Country</th>\n",
       "      <th>Happiness Rank</th>\n",
       "      <th>Happiness Score</th>\n",
       "    </tr>\n",
       "  </thead>\n",
       "  <tbody>\n",
       "    <tr>\n",
       "      <th>0</th>\n",
       "      <td>Denmark</td>\n",
       "      <td>1</td>\n",
       "      <td>7.526</td>\n",
       "    </tr>\n",
       "    <tr>\n",
       "      <th>1</th>\n",
       "      <td>Switzerland</td>\n",
       "      <td>2</td>\n",
       "      <td>7.509</td>\n",
       "    </tr>\n",
       "    <tr>\n",
       "      <th>2</th>\n",
       "      <td>Iceland</td>\n",
       "      <td>3</td>\n",
       "      <td>7.501</td>\n",
       "    </tr>\n",
       "    <tr>\n",
       "      <th>3</th>\n",
       "      <td>Norway</td>\n",
       "      <td>4</td>\n",
       "      <td>7.498</td>\n",
       "    </tr>\n",
       "    <tr>\n",
       "      <th>4</th>\n",
       "      <td>Finland</td>\n",
       "      <td>5</td>\n",
       "      <td>7.413</td>\n",
       "    </tr>\n",
       "    <tr>\n",
       "      <th>5</th>\n",
       "      <td>Canada</td>\n",
       "      <td>6</td>\n",
       "      <td>7.404</td>\n",
       "    </tr>\n",
       "    <tr>\n",
       "      <th>6</th>\n",
       "      <td>Netherlands</td>\n",
       "      <td>7</td>\n",
       "      <td>7.339</td>\n",
       "    </tr>\n",
       "    <tr>\n",
       "      <th>7</th>\n",
       "      <td>New Zealand</td>\n",
       "      <td>8</td>\n",
       "      <td>7.334</td>\n",
       "    </tr>\n",
       "    <tr>\n",
       "      <th>8</th>\n",
       "      <td>Australia</td>\n",
       "      <td>9</td>\n",
       "      <td>7.313</td>\n",
       "    </tr>\n",
       "    <tr>\n",
       "      <th>9</th>\n",
       "      <td>Sweden</td>\n",
       "      <td>10</td>\n",
       "      <td>7.291</td>\n",
       "    </tr>\n",
       "  </tbody>\n",
       "</table>\n",
       "</div>"
      ],
      "text/plain": [
       "       Country  Happiness Rank  Happiness Score\n",
       "0      Denmark               1            7.526\n",
       "1  Switzerland               2            7.509\n",
       "2      Iceland               3            7.501\n",
       "3       Norway               4            7.498\n",
       "4      Finland               5            7.413\n",
       "5       Canada               6            7.404\n",
       "6  Netherlands               7            7.339\n",
       "7  New Zealand               8            7.334\n",
       "8    Australia               9            7.313\n",
       "9       Sweden              10            7.291"
      ]
     },
     "execution_count": 230,
     "metadata": {},
     "output_type": "execute_result"
    }
   ],
   "source": [
    "df_top"
   ]
  },
  {
   "cell_type": "code",
   "execution_count": 231,
   "metadata": {
    "collapsed": false,
    "scrolled": true
   },
   "outputs": [
    {
     "data": {
      "text/html": [
       "<div>\n",
       "<table border=\"1\" class=\"dataframe\">\n",
       "  <thead>\n",
       "    <tr style=\"text-align: right;\">\n",
       "      <th></th>\n",
       "      <th>Country</th>\n",
       "      <th>Happiness Rank</th>\n",
       "      <th>Happiness Score</th>\n",
       "    </tr>\n",
       "  </thead>\n",
       "  <tbody>\n",
       "    <tr>\n",
       "      <th>145</th>\n",
       "      <td>Uganda</td>\n",
       "      <td>145</td>\n",
       "      <td>3.739</td>\n",
       "    </tr>\n",
       "    <tr>\n",
       "      <th>146</th>\n",
       "      <td>Yemen</td>\n",
       "      <td>147</td>\n",
       "      <td>3.724</td>\n",
       "    </tr>\n",
       "    <tr>\n",
       "      <th>147</th>\n",
       "      <td>Madagascar</td>\n",
       "      <td>148</td>\n",
       "      <td>3.695</td>\n",
       "    </tr>\n",
       "    <tr>\n",
       "      <th>148</th>\n",
       "      <td>Tanzania</td>\n",
       "      <td>149</td>\n",
       "      <td>3.666</td>\n",
       "    </tr>\n",
       "    <tr>\n",
       "      <th>149</th>\n",
       "      <td>Liberia</td>\n",
       "      <td>150</td>\n",
       "      <td>3.622</td>\n",
       "    </tr>\n",
       "    <tr>\n",
       "      <th>150</th>\n",
       "      <td>Guinea</td>\n",
       "      <td>151</td>\n",
       "      <td>3.607</td>\n",
       "    </tr>\n",
       "    <tr>\n",
       "      <th>151</th>\n",
       "      <td>Rwanda</td>\n",
       "      <td>152</td>\n",
       "      <td>3.515</td>\n",
       "    </tr>\n",
       "    <tr>\n",
       "      <th>152</th>\n",
       "      <td>Benin</td>\n",
       "      <td>153</td>\n",
       "      <td>3.484</td>\n",
       "    </tr>\n",
       "    <tr>\n",
       "      <th>153</th>\n",
       "      <td>Afghanistan</td>\n",
       "      <td>154</td>\n",
       "      <td>3.360</td>\n",
       "    </tr>\n",
       "    <tr>\n",
       "      <th>154</th>\n",
       "      <td>Togo</td>\n",
       "      <td>155</td>\n",
       "      <td>3.303</td>\n",
       "    </tr>\n",
       "    <tr>\n",
       "      <th>155</th>\n",
       "      <td>Syria</td>\n",
       "      <td>156</td>\n",
       "      <td>3.069</td>\n",
       "    </tr>\n",
       "    <tr>\n",
       "      <th>156</th>\n",
       "      <td>Burundi</td>\n",
       "      <td>157</td>\n",
       "      <td>2.905</td>\n",
       "    </tr>\n",
       "  </tbody>\n",
       "</table>\n",
       "</div>"
      ],
      "text/plain": [
       "         Country  Happiness Rank  Happiness Score\n",
       "145       Uganda             145            3.739\n",
       "146        Yemen             147            3.724\n",
       "147   Madagascar             148            3.695\n",
       "148     Tanzania             149            3.666\n",
       "149      Liberia             150            3.622\n",
       "150       Guinea             151            3.607\n",
       "151       Rwanda             152            3.515\n",
       "152        Benin             153            3.484\n",
       "153  Afghanistan             154            3.360\n",
       "154         Togo             155            3.303\n",
       "155        Syria             156            3.069\n",
       "156      Burundi             157            2.905"
      ]
     },
     "execution_count": 231,
     "metadata": {},
     "output_type": "execute_result"
    }
   ],
   "source": [
    "df_bottom"
   ]
  },
  {
   "cell_type": "markdown",
   "metadata": {},
   "source": [
    "From above tables, we can see that the top countries are almost Europe countries and developed countries and the bottom 10 countries are almost African countries which match with the happiness score distributed by regions. From my intuition, the name of . The country in the bottom looks like they are remote, undeveloped, and suffering poor from my intuition, which means they should have low happiness score from my intuition. Also, from my intuition, the countries in the top 10, I has no surprise because I think they should be there because they are developed countries and their people should be happy because they are richer than other. I need to explore more to verify whether my intuition about these countries is right because they are poor and undeveloped or they have low happiness score because other reasons, which I ignore before. "
   ]
  },
  {
   "cell_type": "markdown",
   "metadata": {},
   "source": [
    "### 4.3 Statistical Summary of Happiness Score"
   ]
  },
  {
   "cell_type": "code",
   "execution_count": 238,
   "metadata": {
    "collapsed": false,
    "scrolled": false
   },
   "outputs": [
    {
     "data": {
      "text/plain": [
       "count    157.000000\n",
       "mean       5.382185\n",
       "std        1.141674\n",
       "min        2.905000\n",
       "25%        4.404000\n",
       "50%        5.314000\n",
       "75%        6.269000\n",
       "max        7.526000\n",
       "Name: Happiness Score, dtype: float64"
      ]
     },
     "execution_count": 238,
     "metadata": {},
     "output_type": "execute_result"
    }
   ],
   "source": [
    "df_summary"
   ]
  },
  {
   "cell_type": "code",
   "execution_count": 283,
   "metadata": {
    "collapsed": false
   },
   "outputs": [
    {
     "data": {
      "image/png": "[encoded data removed]",
      "text/plain": [
       "<IPython.core.display.Image object>"
      ]
     },
     "execution_count": 283,
     "metadata": {},
     "output_type": "execute_result"
    }
   ],
   "source": [
    "Image('Boxplot_of_Happniess_Score.png')"
   ]
  },
  {
   "cell_type": "markdown",
   "metadata": {},
   "source": [
    "The Happiness score in range from 2.905 to 7.526, the mean is 5.382. The standard deviation is not huge, It is 1.141674, which means the happiness score among every countries tend to be close to the mean. The meand and the median is almost same. But it not means the distribution is symmetric and is unimodal. We should also check the plot of distribution. "
   ]
  },
  {
   "cell_type": "code",
   "execution_count": 277,
   "metadata": {
    "collapsed": false
   },
   "outputs": [
    {
     "data": {
      "image/png": "[encoded data removed]",
      "text/plain": [
       "<IPython.core.display.Image object>"
      ]
     },
     "execution_count": 277,
     "metadata": {},
     "output_type": "execute_result"
    }
   ],
   "source": [
    "Image(\"Distrubition_of_Happniess_Score.png\")"
   ]
  },
  {
   "cell_type": "markdown",
   "metadata": {},
   "source": [
    "From the distribution plot of happiness score, we could see that the happiness are closed to normal distribution but a little bit screw to right, which is positive skewed.  However, we could not conclude the distribution is symmetric and unimodal."
   ]
  },
  {
   "cell_type": "markdown",
   "metadata": {},
   "source": [
    "### 4.4 Where is United States ?"
   ]
  },
  {
   "cell_type": "code",
   "execution_count": 263,
   "metadata": {
    "collapsed": false,
    "scrolled": false
   },
   "outputs": [
    {
     "data": {
      "text/html": [
       "<div>\n",
       "<table border=\"1\" class=\"dataframe\">\n",
       "  <thead>\n",
       "    <tr style=\"text-align: right;\">\n",
       "      <th></th>\n",
       "      <th>Country</th>\n",
       "      <th>Region</th>\n",
       "      <th>Happiness Rank</th>\n",
       "      <th>Happiness Score</th>\n",
       "    </tr>\n",
       "  </thead>\n",
       "  <tbody>\n",
       "    <tr>\n",
       "      <th>12</th>\n",
       "      <td>United States</td>\n",
       "      <td>North America</td>\n",
       "      <td>13</td>\n",
       "      <td>7.104</td>\n",
       "    </tr>\n",
       "  </tbody>\n",
       "</table>\n",
       "</div>"
      ],
      "text/plain": [
       "          Country         Region  Happiness Rank  Happiness Score\n",
       "12  United States  North America              13            7.104"
      ]
     },
     "execution_count": 263,
     "metadata": {},
     "output_type": "execute_result"
    }
   ],
   "source": [
    "df_usa"
   ]
  },
  {
   "cell_type": "markdown",
   "metadata": {},
   "source": [
    "It is a surprise for me that super country like Unite State is not in the list of Top 10. The United Sates is in Rank 13 and 7.104 score. However, American Happiness is far higher than average scores(5.382) and still in the fourth quintile, which means  United States has higher happiness score than at least 75% countries. "
   ]
  },
  {
   "cell_type": "markdown",
   "metadata": {},
   "source": [
    "### 4.5 Where is my Country ?"
   ]
  },
  {
   "cell_type": "code",
   "execution_count": 290,
   "metadata": {
    "collapsed": false,
    "scrolled": true
   },
   "outputs": [
    {
     "data": {
      "text/html": [
       "<div>\n",
       "<table border=\"1\" class=\"dataframe\">\n",
       "  <thead>\n",
       "    <tr style=\"text-align: right;\">\n",
       "      <th></th>\n",
       "      <th>Country</th>\n",
       "      <th>Region</th>\n",
       "      <th>Happiness Rank</th>\n",
       "      <th>Happiness Score</th>\n",
       "    </tr>\n",
       "  </thead>\n",
       "  <tbody>\n",
       "    <tr>\n",
       "      <th>82</th>\n",
       "      <td>China</td>\n",
       "      <td>Eastern Asia</td>\n",
       "      <td>83</td>\n",
       "      <td>5.245</td>\n",
       "    </tr>\n",
       "  </tbody>\n",
       "</table>\n",
       "</div>"
      ],
      "text/plain": [
       "   Country        Region  Happiness Rank  Happiness Score\n",
       "82   China  Eastern Asia              83            5.245"
      ]
     },
     "execution_count": 290,
     "metadata": {},
     "output_type": "execute_result"
    }
   ],
   "source": [
    "df_China"
   ]
  },
  {
   "cell_type": "markdown",
   "metadata": {},
   "source": [
    "I came from China and thus I also want to know what is the happiness score and rank of my country. My country got 5.245 score and rank 83. It is a little bit surprise for me cause I think I am pretty happy and my friends who are Chinese are also very happy. However, it is a bias because me and my friends are just little portion of Chinese. We are a little a below average and median, and we are in the second quantile.  "
   ]
  },
  {
   "cell_type": "markdown",
   "metadata": {},
   "source": [
    "I think lots of people may have some question as me, I am happy and my friends around me look happy but why our country has lower rank as our expect?  This is actually bias because we are just little portion of our country, which means we cant represent as our whole country. Thus, exploring the what correlated and influence the happiness score is important. We need let the truth speak rather than intuition."
   ]
  },
  {
   "cell_type": "markdown",
   "metadata": {},
   "source": [
    "## 4.5 Pearson correlation coefficient "
   ]
  },
  {
   "cell_type": "code",
   "execution_count": 291,
   "metadata": {
    "collapsed": false
   },
   "outputs": [
    {
     "data": {
      "text/html": [
       "<div>\n",
       "<table border=\"1\" class=\"dataframe\">\n",
       "  <thead>\n",
       "    <tr style=\"text-align: right;\">\n",
       "      <th></th>\n",
       "      <th>Factor</th>\n",
       "      <th>Correlation Coefficient with Happiness</th>\n",
       "    </tr>\n",
       "  </thead>\n",
       "  <tbody>\n",
       "    <tr>\n",
       "      <th>5</th>\n",
       "      <td>Generosity</td>\n",
       "      <td>0.156848</td>\n",
       "    </tr>\n",
       "    <tr>\n",
       "      <th>4</th>\n",
       "      <td>Trust (Government Corruption)</td>\n",
       "      <td>0.402032</td>\n",
       "    </tr>\n",
       "    <tr>\n",
       "      <th>3</th>\n",
       "      <td>Freedom</td>\n",
       "      <td>0.566827</td>\n",
       "    </tr>\n",
       "    <tr>\n",
       "      <th>1</th>\n",
       "      <td>Family</td>\n",
       "      <td>0.739252</td>\n",
       "    </tr>\n",
       "    <tr>\n",
       "      <th>2</th>\n",
       "      <td>Health (Life Expectancy)</td>\n",
       "      <td>0.765384</td>\n",
       "    </tr>\n",
       "    <tr>\n",
       "      <th>0</th>\n",
       "      <td>Economy (GDP per Capita)</td>\n",
       "      <td>0.790322</td>\n",
       "    </tr>\n",
       "  </tbody>\n",
       "</table>\n",
       "</div>"
      ],
      "text/plain": [
       "                          Factor  Correlation Coefficient with Happiness\n",
       "5                     Generosity                                0.156848\n",
       "4  Trust (Government Corruption)                                0.402032\n",
       "3                        Freedom                                0.566827\n",
       "1                         Family                                0.739252\n",
       "2       Health (Life Expectancy)                                0.765384\n",
       "0       Economy (GDP per Capita)                                0.790322"
      ]
     },
     "execution_count": 291,
     "metadata": {},
     "output_type": "execute_result"
    }
   ],
   "source": [
    "df_coeff"
   ]
  },
  {
   "cell_type": "markdown",
   "metadata": {},
   "source": [
    "According to definition of Person Coefficient Correlation from Wikipedia, is a measure of linear correlation between two variables X and Y. It has a value between +1 and -1, where 1 is total positive linear correlation, 0 is no linear correlation, and -1 is total negative linear correlation. "
   ]
  },
  {
   "cell_type": "markdown",
   "metadata": {},
   "source": [
    "From the result, I found that all the factor has positive correlation with Happiness score. The economy, health and family is most correlation with Happiness score and the Generosity is least correlated with happiness score. However we should remember that correlation score show only how strong the linear relationship is, the strong linear correlation does not guaranty cause and effect. "
   ]
  },
  {
   "cell_type": "markdown",
   "metadata": {},
   "source": [
    "## 4.6  Multiple Linear Regression Model"
   ]
  },
  {
   "cell_type": "code",
   "execution_count": 317,
   "metadata": {
    "collapsed": false,
    "scrolled": true
   },
   "outputs": [
    {
     "data": {
      "text/html": [
       "<table class=\"simpletable\">\n",
       "<caption>OLS Regression Results</caption>\n",
       "<tr>\n",
       "  <th>Dep. Variable:</th>     <td>Happiness Score</td> <th>  R-squared:         </th> <td>   0.979</td> \n",
       "</tr>\n",
       "<tr>\n",
       "  <th>Model:</th>                   <td>OLS</td>       <th>  Adj. R-squared:    </th> <td>   0.978</td> \n",
       "</tr>\n",
       "<tr>\n",
       "  <th>Method:</th>             <td>Least Squares</td>  <th>  F-statistic:       </th> <td>   1191.</td> \n",
       "</tr>\n",
       "<tr>\n",
       "  <th>Date:</th>             <td>Sun, 10 Dec 2017</td> <th>  Prob (F-statistic):</th> <td>2.01e-124</td>\n",
       "</tr>\n",
       "<tr>\n",
       "  <th>Time:</th>                 <td>14:27:21</td>     <th>  Log-Likelihood:    </th> <td> -186.04</td> \n",
       "</tr>\n",
       "<tr>\n",
       "  <th>No. Observations:</th>      <td>   157</td>      <th>  AIC:               </th> <td>   384.1</td> \n",
       "</tr>\n",
       "<tr>\n",
       "  <th>Df Residuals:</th>          <td>   151</td>      <th>  BIC:               </th> <td>   402.4</td> \n",
       "</tr>\n",
       "<tr>\n",
       "  <th>Df Model:</th>              <td>     6</td>      <th>                     </th>     <td> </td>    \n",
       "</tr>\n",
       "<tr>\n",
       "  <th>Covariance Type:</th>      <td>nonrobust</td>    <th>                     </th>     <td> </td>    \n",
       "</tr>\n",
       "</table>\n",
       "<table class=\"simpletable\">\n",
       "<tr>\n",
       "                <td></td>                   <th>coef</th>     <th>std err</th>      <th>t</th>      <th>P>|t|</th>  <th>[0.025</th>    <th>0.975]</th>  \n",
       "</tr>\n",
       "<tr>\n",
       "  <th>Economy (GDP per Capita)</th>      <td>    0.7232</td> <td>    0.326</td> <td>    2.215</td> <td> 0.028</td> <td>    0.078</td> <td>    1.368</td>\n",
       "</tr>\n",
       "<tr>\n",
       "  <th>Family</th>                        <td>    2.3765</td> <td>    0.322</td> <td>    7.376</td> <td> 0.000</td> <td>    1.740</td> <td>    3.013</td>\n",
       "</tr>\n",
       "<tr>\n",
       "  <th>Health (Life Expectancy)</th>      <td>    2.0901</td> <td>    0.520</td> <td>    4.021</td> <td> 0.000</td> <td>    1.063</td> <td>    3.117</td>\n",
       "</tr>\n",
       "<tr>\n",
       "  <th>Freedom</th>                       <td>    2.7120</td> <td>    0.569</td> <td>    4.769</td> <td> 0.000</td> <td>    1.588</td> <td>    3.835</td>\n",
       "</tr>\n",
       "<tr>\n",
       "  <th>Trust (Government Corruption)</th> <td>    0.4333</td> <td>    0.697</td> <td>    0.622</td> <td> 0.535</td> <td>   -0.944</td> <td>    1.810</td>\n",
       "</tr>\n",
       "<tr>\n",
       "  <th>Generosity</th>                    <td>    1.7095</td> <td>    0.518</td> <td>    3.302</td> <td> 0.001</td> <td>    0.687</td> <td>    2.732</td>\n",
       "</tr>\n",
       "</table>\n",
       "<table class=\"simpletable\">\n",
       "<tr>\n",
       "  <th>Omnibus:</th>       <td> 0.459</td> <th>  Durbin-Watson:     </th> <td>   1.912</td>\n",
       "</tr>\n",
       "<tr>\n",
       "  <th>Prob(Omnibus):</th> <td> 0.795</td> <th>  Jarque-Bera (JB):  </th> <td>   0.590</td>\n",
       "</tr>\n",
       "<tr>\n",
       "  <th>Skew:</th>          <td> 0.110</td> <th>  Prob(JB):          </th> <td>   0.744</td>\n",
       "</tr>\n",
       "<tr>\n",
       "  <th>Kurtosis:</th>      <td> 2.795</td> <th>  Cond. No.          </th> <td>    18.2</td>\n",
       "</tr>\n",
       "</table>"
      ],
      "text/plain": [
       "<class 'statsmodels.iolib.summary.Summary'>\n",
       "\"\"\"\n",
       "                            OLS Regression Results                            \n",
       "==============================================================================\n",
       "Dep. Variable:        Happiness Score   R-squared:                       0.979\n",
       "Model:                            OLS   Adj. R-squared:                  0.978\n",
       "Method:                 Least Squares   F-statistic:                     1191.\n",
       "Date:                Sun, 10 Dec 2017   Prob (F-statistic):          2.01e-124\n",
       "Time:                        14:27:21   Log-Likelihood:                -186.04\n",
       "No. Observations:                 157   AIC:                             384.1\n",
       "Df Residuals:                     151   BIC:                             402.4\n",
       "Df Model:                           6                                         \n",
       "Covariance Type:            nonrobust                                         \n",
       "=================================================================================================\n",
       "                                    coef    std err          t      P>|t|      [0.025      0.975]\n",
       "-------------------------------------------------------------------------------------------------\n",
       "Economy (GDP per Capita)          0.7232      0.326      2.215      0.028       0.078       1.368\n",
       "Family                            2.3765      0.322      7.376      0.000       1.740       3.013\n",
       "Health (Life Expectancy)          2.0901      0.520      4.021      0.000       1.063       3.117\n",
       "Freedom                           2.7120      0.569      4.769      0.000       1.588       3.835\n",
       "Trust (Government Corruption)     0.4333      0.697      0.622      0.535      -0.944       1.810\n",
       "Generosity                        1.7095      0.518      3.302      0.001       0.687       2.732\n",
       "==============================================================================\n",
       "Omnibus:                        0.459   Durbin-Watson:                   1.912\n",
       "Prob(Omnibus):                  0.795   Jarque-Bera (JB):                0.590\n",
       "Skew:                           0.110   Prob(JB):                        0.744\n",
       "Kurtosis:                       2.795   Cond. No.                         18.2\n",
       "==============================================================================\n",
       "\n",
       "Warnings:\n",
       "[1] Standard Errors assume that the covariance matrix of the errors is correctly specified.\n",
       "\"\"\""
      ]
     },
     "execution_count": 317,
     "metadata": {},
     "output_type": "execute_result"
    }
   ],
   "source": [
    "result.summary()"
   ]
  },
  {
   "cell_type": "markdown",
   "metadata": {},
   "source": [
    "From the above summary,  I found that Happniess score = 2.7120*Freedom\t+ 2.3765*Family + 2.0901*Health (Life Expectancy) +  1.7095*Generosity + 0.7232*Economy (GDP per Capita)\t+ 0.4333*Trust (Government Corruption)"
   ]
  },
  {
   "cell_type": "markdown",
   "metadata": {},
   "source": [
    "From the multiple linear regression model, we could see how each factor influence the happiness score.  Freedom, Family and Health influence the happiness core most, their coefficient is 2.712, 2,3765, and 2,0901. Meanwhile, their t score is pretty high with means their statistical significant number is pretty high. The Trust(Government Corruption) has least influence on happiness score and low statistically significant. The high Statistically  means the likelihood that the relationship between this factor and happiness score  is not random chance. "
   ]
  },
  {
   "cell_type": "markdown",
   "metadata": {},
   "source": [
    "Also the R^2 and adjusted R^2 value is pretty high. They are 0.979. According to the definition, the R^2 is a statistic that will give some information about the goodness of fit of a model. An R^2 of 1 indicates that the regression line perfectly fits the data. We got 0.979，which means the regression fit the model pretty good and the prediction is reliable. "
   ]
  },
  {
   "cell_type": "markdown",
   "metadata": {},
   "source": [
    "# 5 Discussion"
   ]
  },
  {
   "cell_type": "markdown",
   "metadata": {},
   "source": [
    "### 5.1 Limitation\n",
    "There are some limitations in my project, \n",
    "First of all, I only assume that each factor is linear relationship with Happiness score. \n",
    "\n",
    "Second, for the Coefficient correlation, I only calculate the  value of coefficient correlation for single factors.\n",
    "\n",
    "Third, my available for predicting multiple linear regression model is not enough. I only have the variables from one dataset. \n"
   ]
  },
  {
   "cell_type": "markdown",
   "metadata": {},
   "source": [
    "### 5.2 Future Work\n",
    "In the future, I will \n",
    "\n",
    "First, I will consider more regression model to predict happiness score and compare them. \n",
    "\n",
    "Second, I will calculate coefficient correlation of multiple factors with happiness score. \n",
    "\n",
    " \n",
    " Third, I will find more related dataset such as health, violent, crime dataset to combine with. I will add more variable for my analysis.  I will analyze the correlation between happiness score with health condition and  how happiness score influence violent and crime rate. "
   ]
  },
  {
   "cell_type": "markdown",
   "metadata": {},
   "source": [
    "### 5.3 imporance of project\n",
    "\n",
    "1. For government and citizens, knowing their rank and score of happiness comparing with worldwide ranking and score is important. They should know how exactly their score and ranking rather than feeling I am happy and people around me are happy.  They should know where they exactly are.\n",
    "\n",
    "2. Knowing the coefficient of factors that could efficiently improve the happiness score and most correlated with the happiness score is import for governments and related organizations because this could influence their policy making in the future. They should consider  specific policy to improve related to factors to increase the happiness score for their citizens.\n",
    "\n",
    "3. Knowing the importance of how happiness could influence our health, crime rate, and violent rate. It is important to draw citizens and governments’ attention about how important happiness score to their country and citizens.\n"
   ]
  },
  {
   "cell_type": "markdown",
   "metadata": {},
   "source": [
    "# 6 Conculsion"
   ]
  },
  {
   "cell_type": "markdown",
   "metadata": {},
   "source": [
    "#### 6.1. How does the Happiness Rank and Score distribute by countries, Regions ?\n",
    "The Bottom 10 happiness countries are Uganda, Yemen, Madagascar, Tanzania, Liberia, Guinea, Rwanda, Benin, Afghanistan, Togo, Syria and Burundi. Most of them are African countries."
   ]
  },
  {
   "cell_type": "markdown",
   "metadata": {},
   "source": [
    "#### 6.2. Does super country like United States has high rank? \n",
    "United States is not in top 10 but in rank 13 with 7.104 Happiness score.\n"
   ]
  },
  {
   "cell_type": "markdown",
   "metadata": {},
   "source": [
    "#### 6.3 Which factors most and least correlated with the happniess score? \n",
    "Economy( GDP per Capita), Health( Life Expectancy), and family is most correlated with happiness score. The Generosity is least correlated with happiness score.\n",
    "\n"
   ]
  },
  {
   "cell_type": "markdown",
   "metadata": {},
   "source": [
    "\n",
    "#### 6.4. Which factors most and least influence the happniess score? \n",
    "Freedom and Family influence the Happiness score most with high statically significant and Trust (Government Corruption) influence Happiness score with low statically significant."
   ]
  },
  {
   "cell_type": "markdown",
   "metadata": {},
   "source": [
    "My project is not endpoint for happiness. Other other hand, my project is a start point for human-centered data scientist. As a data scientist, they could explore more based on my project. They could analyze how to improve freedom and family index score to improve Happiness score, they could explore how each level of happiness score represent what kind of emotion and condition, they could what will happen when worldwide overall happiness score improve base on my project. We are human-centered data scientist, our job  is start from human and suit the human needs. "
   ]
  },
  {
   "cell_type": "markdown",
   "metadata": {},
   "source": [
    "# 7 Reference\n",
    "\n",
    "1. WORLD HAPPINESS REPORT. (n.d.). Retrieved December 10, 2017, from http://worldhappiness.report/\n",
    " \n",
    "2. Happiness. (2017, December 09). Retrieved December 10, 2017, from https://en.wikipedia.org/wiki/Happiness\n",
    " \n",
    "3. Newman, K. M. (2015, July 28). Six Ways Happiness Is Good for Your Health. Retrieved December 10, 2017, from https://greatergood.berkeley.edu/article/item/six_ways_happiness_is_good_for_your_health\n",
    " \n",
    "4. University of California - Davis. \"Happiness can deter crime, a new study finds.\" ScienceDaily. ScienceDaily, 23 August 2011. <www.sciencedaily.com/releases/2011/08/110822091859.htm>\n",
    " \n",
    "5. Pearson correlation coefficient. (2017, December 07). Retrieved December 10, 2017, from https://en.wikipedia.org/wiki/Pearson_correlation_coefficient\n",
    " \n",
    "6. ORRELATION COEFFICIENT. (n.d.). Retrieved December 10, 2017, from https://www.sunshineprofits.com/gold-silver/dictionary/correlation-coefficient-gold/\n",
    " \n",
    "7. Mutiple Linear Regression Http://www.stat.yale.edu/Courses/1997-98/101/linmult.htm. (n.d.). Retrieved December 10, 2017, from http://www.stat.yale.edu/Courses/1997-98/101/linmult.htm\n",
    " \n",
    "8. Skewness. (2017, December 07). Retrieved December 10, 2017, from https://en.wikipedia.org/wiki/Skewness\n",
    " \n",
    "9. Normal distribution. (2017, December 09). Retrieved December 10, 2017, from https://en.wikipedia.org/wiki/Normal_distribution"
   ]
  }
 ],
 "metadata": {
  "kernelspec": {
   "display_name": "Python 3",
   "language": "python",
   "name": "python3"
  },
  "language_info": {
   "codemirror_mode": {
    "name": "ipython",
    "version": 3
   },
   "file_extension": ".py",
   "mimetype": "text/x-python",
   "name": "python",
   "nbconvert_exporter": "python",
   "pygments_lexer": "ipython3",
   "version": "3.6.0"
  }
 },
 "nbformat": 4,
 "nbformat_minor": 2
}
